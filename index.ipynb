{
 "cells": [
  {
   "cell_type": "markdown",
   "metadata": {},
   "source": [
    "## Gambling and sports betting"
   ]
  },
  {
   "cell_type": "markdown",
   "metadata": {},
   "source": [
    "## Exercise 1: Soccer World Cup"
   ]
  },
  {
   "cell_type": "markdown",
   "metadata": {},
   "source": [
    "Belgium is planning on making it far in the soccer world cup. Currently waiting from the group phase and already knowing that they are qualified, Belgium knows that, there are 4 potential opponents they may face in the quarter finals. Projections for playing the following countries look as follows:\n",
    "\n",
    "- Brazil, with a 30% chance.\n",
    "- Colombia, with a 15% chance\n",
    "- Sweden, with 35% chance\n",
    "- Switzerland, with a 20% chance."
   ]
  },
  {
   "cell_type": "markdown",
   "metadata": {},
   "source": [
    "According to online betting company Ladbrokes, Belgium's chances of winning against these contries are given by the following probabilities:\n",
    "\n",
    "- Against Brazil, Belgium has a 27% chance of winning.\n",
    "- Against Colombia, Belgium has a 68% chance of winning.\n",
    "- Against Sweden, Belgium has a 55% chance of winning.\n",
    "- Against Switzerland, Belgium has a 73% chance of winning.\n"
   ]
  },
  {
   "cell_type": "markdown",
   "metadata": {},
   "source": [
    "Fast forward, and turns out Belgium has won the quarter finals. What is the probability that they did NOT play against Brazil?"
   ]
  },
  {
   "cell_type": "markdown",
   "metadata": {},
   "source": [
    "### Solution"
   ]
  },
  {
   "cell_type": "markdown",
   "metadata": {},
   "source": [
    "$P(\\text{not play against Brazil} \\mid \\text{win})= 1-P(\\text{play against Brazil} \\mid \\text{win})$ "
   ]
  },
  {
   "cell_type": "markdown",
   "metadata": {},
   "source": [
    "$P(\\text{play against Brazil} \\mid \\text{win})= \\dfrac{P(\\text{win} \\mid\\text{play against Brazil})P(\\text{play against Brazil})}{\\displaystyle\\sum_i^{i \\in \n",
    "\\text{[Bra,Col,Swe,Swi]}} {P(\\text{win} \\mid\\text{play against country }i)P(\\text{play against country }i)}}$"
   ]
  },
  {
   "cell_type": "code",
   "execution_count": 2,
   "metadata": {},
   "outputs": [
    {
     "data": {
      "text/plain": [
       "0.8446788111217641"
      ]
     },
     "execution_count": 2,
     "metadata": {},
     "output_type": "execute_result"
    }
   ],
   "source": [
    "prob_Brazil_if_won = (0.3*0.27)/(0.3*0.27+ 0.15*0.68+0.35*0.55+0.2*0.73)\n",
    "prob_not_Brazil=1-prob_Brazil_if_won\n",
    "\n",
    "prob_not_Brazil # correct answer: 0.8446788111217641"
   ]
  },
  {
   "cell_type": "markdown",
   "metadata": {},
   "source": [
    "## Exercise 2: Probability that each person has one ace"
   ]
  },
  {
   "cell_type": "markdown",
   "metadata": {},
   "source": [
    "A deck of 52 cards is distributed between 4 people (so each player gets 13 cards). What is the probability that each player gets exactly one ace?"
   ]
  },
  {
   "cell_type": "markdown",
   "metadata": {},
   "source": [
    "### Solution"
   ]
  },
  {
   "cell_type": "markdown",
   "metadata": {},
   "source": [
    "probability that the first player gets exactly one ace."
   ]
  },
  {
   "cell_type": "markdown",
   "metadata": {},
   "source": [
    "$\\dfrac{\\displaystyle{{48}\\choose{12}}\\displaystyle{{4}\\choose{1}}}{\\displaystyle{{52}\\choose{13}}}$"
   ]
  },
  {
   "cell_type": "markdown",
   "metadata": {},
   "source": [
    "Then, on to the second player, only 39 cards are left in the deck, and exactly 3 aces.\n",
    "\n"
   ]
  },
  {
   "cell_type": "markdown",
   "metadata": {},
   "source": [
    "$\\dfrac{\\displaystyle{{36}\\choose{12}}\\displaystyle{{3}\\choose{1}}}{\\displaystyle{{39}\\choose{13}}}$"
   ]
  },
  {
   "cell_type": "markdown",
   "metadata": {},
   "source": [
    "and so on. muliplying it all, this boils down to:"
   ]
  },
  {
   "cell_type": "markdown",
   "metadata": {},
   "source": [
    "$\\dfrac{4!\\displaystyle{{48}\\choose{12}}\\displaystyle{{36}\\choose{12}}\\displaystyle{{24}\\choose{12}}\\displaystyle{{12}\\choose{12}}}{\\displaystyle{{52}\\choose{13}}\\displaystyle{{39}\\choose{13}}\\displaystyle{{26}\\choose{13}}\\displaystyle{{13}\\choose{13}}}$"
   ]
  },
  {
   "cell_type": "code",
   "execution_count": 2,
   "metadata": {},
   "outputs": [],
   "source": [
    "import math\n",
    "import scipy.special as prob\n",
    "\n",
    "numerator = (math.factorial(4)* prob.comb(48,12)* prob.comb(36,12)* prob.comb(24,12))\n",
    "denominator = (prob.comb(52,13)* prob.comb(39,13)* prob.comb(26,13))\n",
    "\n",
    "everyone_one_ace = numerator/denominator\n",
    "\n",
    "everyone_one_ace  # correct answer: 0.10549819927971187"
   ]
  },
  {
   "cell_type": "markdown",
   "metadata": {},
   "source": [
    "## Exercise 3: Poker: four of a kind"
   ]
  },
  {
   "cell_type": "markdown",
   "metadata": {},
   "source": [
    "If you're being dealt 5 cards, what is the probability for you to get four of a kind?"
   ]
  },
  {
   "cell_type": "markdown",
   "metadata": {},
   "source": [
    "### Solution"
   ]
  },
  {
   "cell_type": "markdown",
   "metadata": {},
   "source": [
    "$\\dfrac{\\displaystyle{{13}\\choose{1}}\\displaystyle{{4}\\choose{4}}\\displaystyle{{48}\\choose{1}}}{\\displaystyle{{52}\\choose{5}}}$"
   ]
  },
  {
   "cell_type": "code",
   "execution_count": 3,
   "metadata": {},
   "outputs": [],
   "source": [
    "four_of_a_kind = (13*48)/prob.comb(52,5)\n",
    "four_of_a_kind  # correct answer: 0.00024009603841536616"
   ]
  },
  {
   "cell_type": "markdown",
   "metadata": {},
   "source": [
    "## Exercise 4: Poker: 3 of a kind"
   ]
  },
  {
   "cell_type": "markdown",
   "metadata": {},
   "source": [
    "Now calculate the probability that you get three of a kind. This is harder!! you have to take two things into account:\n",
    "- you want to get a three of a kind, and not \"by coincidence\" a full house.\n",
    "- you want to get a three of a kind, and not \"by coincidence\" a four of a kind."
   ]
  },
  {
   "cell_type": "markdown",
   "metadata": {},
   "source": [
    "### Solution"
   ]
  },
  {
   "cell_type": "markdown",
   "metadata": {},
   "source": [
    "$\\dfrac{\\displaystyle{{13}\\choose{1}}\\displaystyle{{4}\\choose{3}}\\times\\displaystyle{{12}\\choose{2}}\\displaystyle{{4}\\choose{1}}\\displaystyle{{4}\\choose{1}}}{\\displaystyle{{52}\\choose{5}}}$"
   ]
  },
  {
   "cell_type": "code",
   "execution_count": 4,
   "metadata": {},
   "outputs": [],
   "source": [
    "three_of_a_kind = (13*prob.comb(4,3)*prob.comb(12,2)*4*4)/prob.comb(52,5)\n",
    "three_of_a_kind # correct answer: 0.02112845138055222"
   ]
  },
  {
   "cell_type": "markdown",
   "metadata": {},
   "source": [
    "# sources"
   ]
  },
  {
   "cell_type": "markdown",
   "metadata": {},
   "source": [
    "https://owlcation.com/stem/Cracking-Combinatorics-and-Probability-Card-Game-Problems"
   ]
  }
 ],
 "metadata": {
  "kernelspec": {
   "display_name": "Python 3",
   "language": "python",
   "name": "python3"
  },
  "language_info": {
   "codemirror_mode": {
    "name": "ipython",
    "version": 3
   },
   "file_extension": ".py",
   "mimetype": "text/x-python",
   "name": "python",
   "nbconvert_exporter": "python",
   "pygments_lexer": "ipython3",
   "version": "3.6.4"
  }
 },
 "nbformat": 4,
 "nbformat_minor": 2
}
